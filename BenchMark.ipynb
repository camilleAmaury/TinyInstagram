{
 "cells": [
  {
   "cell_type": "markdown",
   "metadata": {},
   "source": [
    "# Benchmark\n",
    "\n",
    "Done by Marwa RAJFALLAH, Aniss BENTEBIB, Camille-Amaury JUGE.\n",
    "\n"
   ]
  },
  {
   "cell_type": "markdown",
   "metadata": {},
   "source": [
    "##  I - Like per one second :\n",
    "\n",
    "### data explanation\n",
    "\n",
    "Each column corresponds to the time to execute the n steps of the javascript loop, and get the response of the server.\n",
    "Each row corresponds to one of the 30 try we did to harmonize the dataset mean and median.\n",
    "\n",
    "Time is in milliseconds.\n",
    "\n",
    "As we can see below, the javascript loop just go over all users that he can during 1 seconds and stops. That's why there are some response time which are greater than 1000ms=1s.\n",
    "\n",
    "We won't take them to account in the computation of mean and median."
   ]
  },
  {
   "cell_type": "code",
   "execution_count": 48,
   "metadata": {},
   "outputs": [
    {
     "data": {
      "text/html": [
       "<table>\n",
       "<thead><tr><th scope=col>V1</th><th scope=col>V2</th><th scope=col>V3</th><th scope=col>V4</th><th scope=col>V5</th><th scope=col>V6</th><th scope=col>V7</th><th scope=col>V8</th><th scope=col>V9</th><th scope=col>V10</th><th scope=col>...</th><th scope=col>V16</th><th scope=col>V17</th><th scope=col>V18</th><th scope=col>V19</th><th scope=col>V20</th><th scope=col>V21</th><th scope=col>V22</th><th scope=col>V23</th><th scope=col>V24</th><th scope=col>V25</th></tr></thead>\n",
       "<tbody>\n",
       "\t<tr><td>260.510 </td><td>339.455 </td><td>360.040 </td><td>439.495 </td><td>540.280 </td><td>637.890 </td><td>740.135 </td><td> 763.115</td><td> 840.795</td><td> 944.730</td><td>...     </td><td>1138.930</td><td>1141.335</td><td>1142.320</td><td>1143.165</td><td>1144.120</td><td>1157.400</td><td>1235.545</td><td>1244.500</td><td>1280.525</td><td>6695.530</td></tr>\n",
       "\t<tr><td>236.595 </td><td>237.655 </td><td>238.530 </td><td>332.590 </td><td>535.250 </td><td>536.805 </td><td>537.635 </td><td> 636.220</td><td> 660.050</td><td> 733.620</td><td>...     </td><td>1035.330</td><td>1035.710</td><td>1037.545</td><td>1038.255</td><td>1038.855</td><td>1039.515</td><td>1062.615</td><td>1134.400</td><td>1167.060</td><td>6673.925</td></tr>\n",
       "\t<tr><td>574.225 </td><td>577.245 </td><td>578.685 </td><td>579.805 </td><td>580.645 </td><td>775.970 </td><td>987.675 </td><td>1075.765</td><td>1184.595</td><td>1185.690</td><td>...     </td><td>1285.560</td><td>1373.755</td><td>1375.995</td><td>1476.470</td><td>1572.335</td><td>1677.215</td><td>1678.085</td><td>1679.615</td><td>1680.505</td><td>6860.830</td></tr>\n",
       "\t<tr><td>258.480 </td><td>261.005 </td><td>358.420 </td><td>359.925 </td><td>360.640 </td><td>456.845 </td><td>457.815 </td><td> 660.875</td><td> 662.090</td><td> 761.035</td><td>...     </td><td> 961.185</td><td>1057.240</td><td>1150.375</td><td>1154.400</td><td>1155.835</td><td>1156.790</td><td>1254.590</td><td>1255.405</td><td>1256.420</td><td>6459.925</td></tr>\n",
       "\t<tr><td>318.070 </td><td>413.590 </td><td>417.175 </td><td>512.220 </td><td>514.555 </td><td>515.170 </td><td>515.990 </td><td> 516.760</td><td> 616.135</td><td> 702.365</td><td>...     </td><td> 812.615</td><td> 827.040</td><td> 831.650</td><td> 901.395</td><td> 911.865</td><td> 915.145</td><td> 917.255</td><td> 918.945</td><td> 919.590</td><td> 920.140</td></tr>\n",
       "\t<tr><td>260.855 </td><td>358.720 </td><td>359.350 </td><td>360.075 </td><td>460.570 </td><td>461.500 </td><td>466.025 </td><td> 467.890</td><td> 469.065</td><td> 555.115</td><td>...     </td><td> 963.065</td><td> 965.075</td><td> 968.250</td><td>1056.480</td><td>1057.015</td><td>1057.800</td><td>1063.155</td><td>1063.645</td><td>1064.720</td><td>1155.105</td></tr>\n",
       "</tbody>\n",
       "</table>\n"
      ],
      "text/latex": [
       "\\begin{tabular}{r|lllllllllllllllllllllllll}\n",
       " V1 & V2 & V3 & V4 & V5 & V6 & V7 & V8 & V9 & V10 & ... & V16 & V17 & V18 & V19 & V20 & V21 & V22 & V23 & V24 & V25\\\\\n",
       "\\hline\n",
       "\t 260.510  & 339.455  & 360.040  & 439.495  & 540.280  & 637.890  & 740.135  &  763.115 &  840.795 &  944.730 & ...      & 1138.930 & 1141.335 & 1142.320 & 1143.165 & 1144.120 & 1157.400 & 1235.545 & 1244.500 & 1280.525 & 6695.530\\\\\n",
       "\t 236.595  & 237.655  & 238.530  & 332.590  & 535.250  & 536.805  & 537.635  &  636.220 &  660.050 &  733.620 & ...      & 1035.330 & 1035.710 & 1037.545 & 1038.255 & 1038.855 & 1039.515 & 1062.615 & 1134.400 & 1167.060 & 6673.925\\\\\n",
       "\t 574.225  & 577.245  & 578.685  & 579.805  & 580.645  & 775.970  & 987.675  & 1075.765 & 1184.595 & 1185.690 & ...      & 1285.560 & 1373.755 & 1375.995 & 1476.470 & 1572.335 & 1677.215 & 1678.085 & 1679.615 & 1680.505 & 6860.830\\\\\n",
       "\t 258.480  & 261.005  & 358.420  & 359.925  & 360.640  & 456.845  & 457.815  &  660.875 &  662.090 &  761.035 & ...      &  961.185 & 1057.240 & 1150.375 & 1154.400 & 1155.835 & 1156.790 & 1254.590 & 1255.405 & 1256.420 & 6459.925\\\\\n",
       "\t 318.070  & 413.590  & 417.175  & 512.220  & 514.555  & 515.170  & 515.990  &  516.760 &  616.135 &  702.365 & ...      &  812.615 &  827.040 &  831.650 &  901.395 &  911.865 &  915.145 &  917.255 &  918.945 &  919.590 &  920.140\\\\\n",
       "\t 260.855  & 358.720  & 359.350  & 360.075  & 460.570  & 461.500  & 466.025  &  467.890 &  469.065 &  555.115 & ...      &  963.065 &  965.075 &  968.250 & 1056.480 & 1057.015 & 1057.800 & 1063.155 & 1063.645 & 1064.720 & 1155.105\\\\\n",
       "\\end{tabular}\n"
      ],
      "text/markdown": [
       "\n",
       "| V1 | V2 | V3 | V4 | V5 | V6 | V7 | V8 | V9 | V10 | ... | V16 | V17 | V18 | V19 | V20 | V21 | V22 | V23 | V24 | V25 |\n",
       "|---|---|---|---|---|---|---|---|---|---|---|---|---|---|---|---|---|---|---|---|---|\n",
       "| 260.510  | 339.455  | 360.040  | 439.495  | 540.280  | 637.890  | 740.135  |  763.115 |  840.795 |  944.730 | ...      | 1138.930 | 1141.335 | 1142.320 | 1143.165 | 1144.120 | 1157.400 | 1235.545 | 1244.500 | 1280.525 | 6695.530 |\n",
       "| 236.595  | 237.655  | 238.530  | 332.590  | 535.250  | 536.805  | 537.635  |  636.220 |  660.050 |  733.620 | ...      | 1035.330 | 1035.710 | 1037.545 | 1038.255 | 1038.855 | 1039.515 | 1062.615 | 1134.400 | 1167.060 | 6673.925 |\n",
       "| 574.225  | 577.245  | 578.685  | 579.805  | 580.645  | 775.970  | 987.675  | 1075.765 | 1184.595 | 1185.690 | ...      | 1285.560 | 1373.755 | 1375.995 | 1476.470 | 1572.335 | 1677.215 | 1678.085 | 1679.615 | 1680.505 | 6860.830 |\n",
       "| 258.480  | 261.005  | 358.420  | 359.925  | 360.640  | 456.845  | 457.815  |  660.875 |  662.090 |  761.035 | ...      |  961.185 | 1057.240 | 1150.375 | 1154.400 | 1155.835 | 1156.790 | 1254.590 | 1255.405 | 1256.420 | 6459.925 |\n",
       "| 318.070  | 413.590  | 417.175  | 512.220  | 514.555  | 515.170  | 515.990  |  516.760 |  616.135 |  702.365 | ...      |  812.615 |  827.040 |  831.650 |  901.395 |  911.865 |  915.145 |  917.255 |  918.945 |  919.590 |  920.140 |\n",
       "| 260.855  | 358.720  | 359.350  | 360.075  | 460.570  | 461.500  | 466.025  |  467.890 |  469.065 |  555.115 | ...      |  963.065 |  965.075 |  968.250 | 1056.480 | 1057.015 | 1057.800 | 1063.155 | 1063.645 | 1064.720 | 1155.105 |\n",
       "\n"
      ],
      "text/plain": [
       "  V1      V2      V3      V4      V5      V6      V7      V8       V9      \n",
       "1 260.510 339.455 360.040 439.495 540.280 637.890 740.135  763.115  840.795\n",
       "2 236.595 237.655 238.530 332.590 535.250 536.805 537.635  636.220  660.050\n",
       "3 574.225 577.245 578.685 579.805 580.645 775.970 987.675 1075.765 1184.595\n",
       "4 258.480 261.005 358.420 359.925 360.640 456.845 457.815  660.875  662.090\n",
       "5 318.070 413.590 417.175 512.220 514.555 515.170 515.990  516.760  616.135\n",
       "6 260.855 358.720 359.350 360.075 460.570 461.500 466.025  467.890  469.065\n",
       "  V10      ... V16      V17      V18      V19      V20      V21      V22     \n",
       "1  944.730 ... 1138.930 1141.335 1142.320 1143.165 1144.120 1157.400 1235.545\n",
       "2  733.620 ... 1035.330 1035.710 1037.545 1038.255 1038.855 1039.515 1062.615\n",
       "3 1185.690 ... 1285.560 1373.755 1375.995 1476.470 1572.335 1677.215 1678.085\n",
       "4  761.035 ...  961.185 1057.240 1150.375 1154.400 1155.835 1156.790 1254.590\n",
       "5  702.365 ...  812.615  827.040  831.650  901.395  911.865  915.145  917.255\n",
       "6  555.115 ...  963.065  965.075  968.250 1056.480 1057.015 1057.800 1063.155\n",
       "  V23      V24      V25     \n",
       "1 1244.500 1280.525 6695.530\n",
       "2 1134.400 1167.060 6673.925\n",
       "3 1679.615 1680.505 6860.830\n",
       "4 1255.405 1256.420 6459.925\n",
       "5  918.945  919.590  920.140\n",
       "6 1063.645 1064.720 1155.105"
      ]
     },
     "metadata": {},
     "output_type": "display_data"
    }
   ],
   "source": [
    "# import datas \n",
    "data <- read.csv(\"likeperformance.csv\", header = FALSE)\n",
    "head(data)"
   ]
  },
  {
   "cell_type": "markdown",
   "metadata": {},
   "source": [
    "### Re-arranging datas\n",
    "\n",
    "For each column, we only keep the <= 1000 values.\n",
    "\n",
    "Then we compute the number of like done in less or equal to 1 second.\n",
    "\n",
    "Then we do the average mean and median on the total executions."
   ]
  },
  {
   "cell_type": "code",
   "execution_count": 35,
   "metadata": {},
   "outputs": [],
   "source": [
    "new_data <- list()\n",
    "new_data_info <- c()\n",
    "for (i in 1:dim(data)[1]){\n",
    "    row <- data[i,]\n",
    "    new_data[[toString(i)]] <- row[row <= 1000]\n",
    "    new_data_info <- c(new_data_info, length(new_data[[toString(i)]]))\n",
    "}\n",
    "mean_med <- c(mean(new_data_info), median(new_data_info))"
   ]
  },
  {
   "cell_type": "code",
   "execution_count": 36,
   "metadata": {},
   "outputs": [
    {
     "name": "stdout",
     "output_type": "stream",
     "text": [
      "[1] \"mean : 9.83333333333333 ms\"\n",
      "[1] \"median : 10 ms\"\n"
     ]
    },
    {
     "data": {
      "image/png": "[encoded data removed]",
      "text/plain": [
       "Plot with title \"Number of likes per one second repeated 30 times\""
      ]
     },
     "metadata": {},
     "output_type": "display_data"
    }
   ],
   "source": [
    "barplot(\n",
    "    new_data_info,\n",
    "    main = \"Number of likes per one second repeated 30 times\",\n",
    "    xlab = \"Execution sequence\",\n",
    "    ylab = \"Number of like for one second\"\n",
    ")\n",
    "\n",
    "print(paste0(\"mean : \", mean_med[1], \" ms\"))\n",
    "print(paste0(\"median : \", mean_med[2], \" ms\"))"
   ]
  },
  {
   "cell_type": "markdown",
   "metadata": {},
   "source": [
    "As we can see, median is more accurate since there are sometimes really long server response (probably due to the \"free\" endpoint and network bad connection)"
   ]
  },
  {
   "cell_type": "markdown",
   "metadata": {},
   "source": [
    "### Server time response\n",
    "\n",
    "In order to evaluate the raised issue, we propose to see the current mean, median of the serve time response\n",
    "\n",
    "First we are going to only keep the first column of row in the initial matrix and then compute."
   ]
  },
  {
   "cell_type": "code",
   "execution_count": 37,
   "metadata": {},
   "outputs": [],
   "source": [
    "new_data_info <- as.vector(data[,1])\n",
    "mean_med <- c(mean(new_data_info), median(new_data_info))"
   ]
  },
  {
   "cell_type": "code",
   "execution_count": 38,
   "metadata": {},
   "outputs": [
    {
     "name": "stdout",
     "output_type": "stream",
     "text": [
      "[1] \"mean : 503.006000000035 ms\"\n",
      "[1] \"median : 422.36999999977 ms\"\n"
     ]
    },
    {
     "data": {
      "image/png": "[encoded data removed]",
      "text/plain": [
       "Plot with title \"Average time response per 30 executions\""
      ]
     },
     "metadata": {},
     "output_type": "display_data"
    }
   ],
   "source": [
    "barplot(\n",
    "    new_data_info,\n",
    "    main = \"Average time response per 30 executions\",\n",
    "    xlab = \"Execution sequence\",\n",
    "    ylab = \"Time (ms)\"\n",
    ")\n",
    "\n",
    "print(paste0(\"mean : \", mean_med[1], \" ms\"))\n",
    "print(paste0(\"median : \", mean_med[2], \" ms\"))"
   ]
  },
  {
   "cell_type": "markdown",
   "metadata": {},
   "source": [
    "As always, median is more accurate and confirms what we already expected.\n",
    "\n",
    "There are some outliers (sometimes long response) which tensed to pull the mean. It means that sometimes, the first response will affect a lot the number of like we can compute in one second.\n",
    "\n",
    "As you can see, the two bar plots evolve in the opposite direction (meaning that they are some correlation)."
   ]
  },
  {
   "cell_type": "markdown",
   "metadata": {},
   "source": [
    "### Average server elapsed time between two likes\n",
    "\n",
    "One really interesting thing could be to compare the elapsed time in a sequence between the i and i+1 like.\n",
    "\n",
    "It could bring us a global time between two insertion.\n",
    "\n",
    "Moreover, we will try to evaluate the corresponding time while passing more and more request to the server."
   ]
  },
  {
   "cell_type": "code",
   "execution_count": 59,
   "metadata": {},
   "outputs": [],
   "source": [
    "timeCompare <- function(M){\n",
    "    M_ini <- as.matrix(M)\n",
    "    m <- matrix(0,  dim(M_ini)[1], dim(M_ini)[2]-2)\n",
    "    for(i in 1:dim(M_ini)[1]){\n",
    "        for(j in 1:(dim(M_ini)[2]-2)){\n",
    "            m[i, j] <- M_ini[i,j+1] - M_ini[i,j]\n",
    "        }\n",
    "    }\n",
    "    return(m)\n",
    "}\n",
    "new_data_info <- colMeans(timeCompare(data))"
   ]
  },
  {
   "cell_type": "code",
   "execution_count": 58,
   "metadata": {},
   "outputs": [
    {
     "name": "stdout",
     "output_type": "stream",
     "text": [
      "[1] \"mean : 54.7968405797108 ms\"\n"
     ]
    },
    {
     "data": {
      "image/png": "[encoded data removed]",
      "text/plain": [
       "Plot with title \"Average time response between two next like per request\""
      ]
     },
     "metadata": {},
     "output_type": "display_data"
    }
   ],
   "source": [
    "barplot(\n",
    "    new_data_info,\n",
    "    main = \"Average time response between two next like per request\",\n",
    "    xlab = \"Delta time between n+1 - n\",\n",
    "    ylab = \"Time (ms)\"\n",
    ")\n",
    "\n",
    "print(paste0(\"mean : \", mean(new_data_info), \" ms\"))"
   ]
  },
  {
   "cell_type": "markdown",
   "metadata": {},
   "source": [
    "As we can conclude, there is no real link between the number of request here, and the time execution between two likes.\n",
    "\n",
    "It seems that the time between two likes is dependant of an other factor."
   ]
  },
  {
   "cell_type": "markdown",
   "metadata": {},
   "source": [
    "##  II - Retrieve Posts :\n",
    "\n",
    "### data explanation\n",
    "\n",
    "Each column corresponds to the 10,100,500.\n",
    "Each row corresponds to one of the 30 try we did to harmonize the dataset mean and median.\n",
    "\n",
    "Time is in milliseconds."
   ]
  },
  {
   "cell_type": "code",
   "execution_count": 2,
   "metadata": {},
   "outputs": [
    {
     "data": {
      "text/html": [
       "<table>\n",
       "<thead><tr><th scope=col>X10</th><th scope=col>X100</th><th scope=col>X500</th></tr></thead>\n",
       "<tbody>\n",
       "\t<tr><td>593.630  </td><td>2049.620 </td><td>14014.675</td></tr>\n",
       "\t<tr><td>549.625  </td><td>2110.365 </td><td> 8343.085</td></tr>\n",
       "\t<tr><td>568.730  </td><td>2193.460 </td><td> 8417.025</td></tr>\n",
       "\t<tr><td>540.405  </td><td>2045.410 </td><td> 8283.830</td></tr>\n",
       "\t<tr><td>483.060  </td><td>1908.295 </td><td> 8796.335</td></tr>\n",
       "\t<tr><td>312.720  </td><td>2096.055 </td><td> 8637.130</td></tr>\n",
       "</tbody>\n",
       "</table>\n"
      ],
      "text/latex": [
       "\\begin{tabular}{r|lll}\n",
       " X10 & X100 & X500\\\\\n",
       "\\hline\n",
       "\t 593.630   & 2049.620  & 14014.675\\\\\n",
       "\t 549.625   & 2110.365  &  8343.085\\\\\n",
       "\t 568.730   & 2193.460  &  8417.025\\\\\n",
       "\t 540.405   & 2045.410  &  8283.830\\\\\n",
       "\t 483.060   & 1908.295  &  8796.335\\\\\n",
       "\t 312.720   & 2096.055  &  8637.130\\\\\n",
       "\\end{tabular}\n"
      ],
      "text/markdown": [
       "\n",
       "| X10 | X100 | X500 |\n",
       "|---|---|---|\n",
       "| 593.630   | 2049.620  | 14014.675 |\n",
       "| 549.625   | 2110.365  |  8343.085 |\n",
       "| 568.730   | 2193.460  |  8417.025 |\n",
       "| 540.405   | 2045.410  |  8283.830 |\n",
       "| 483.060   | 1908.295  |  8796.335 |\n",
       "| 312.720   | 2096.055  |  8637.130 |\n",
       "\n"
      ],
      "text/plain": [
       "  X10     X100     X500     \n",
       "1 593.630 2049.620 14014.675\n",
       "2 549.625 2110.365  8343.085\n",
       "3 568.730 2193.460  8417.025\n",
       "4 540.405 2045.410  8283.830\n",
       "5 483.060 1908.295  8796.335\n",
       "6 312.720 2096.055  8637.130"
      ]
     },
     "metadata": {},
     "output_type": "display_data"
    }
   ],
   "source": [
    "# import datas \n",
    "data <- read.csv(\"retrievepostperformance.csv\", header = TRUE)\n",
    "head(data)"
   ]
  },
  {
   "cell_type": "code",
   "execution_count": 10,
   "metadata": {},
   "outputs": [],
   "source": [
    "med_col <- c()\n",
    "mean_col <- c()\n",
    "for (i in 1:dim(data)[2]){\n",
    "    column <- as.vector(data[,i])\n",
    "    mean_col = c(mean_col, mean(column))\n",
    "    med_col = c(med_col, median(column))\n",
    "}\n",
    "new_data <- rbind(mean_col,med_col)"
   ]
  },
  {
   "cell_type": "code",
   "execution_count": 14,
   "metadata": {},
   "outputs": [
    {
     "data": {
      "image/png": "[encoded data removed]",
      "text/plain": [
       "Plot with title \"Average time response (mean - median)\""
      ]
     },
     "metadata": {},
     "output_type": "display_data"
    }
   ],
   "source": [
    "barplot(\n",
    "    new_data,\n",
    "    main = \"Average time response (mean - median)\",\n",
    "    xlab = \"number of posts\",\n",
    "    ylab = \"Time (ms)\",\n",
    "    names.arg = c(\"10\", \"100\", \"500\"),\n",
    "    beside=T\n",
    ")"
   ]
  },
  {
   "cell_type": "markdown",
   "metadata": {},
   "source": [
    "As we can see the more posts we ask, the more time it will take, the relation seems to grow linear (be carefull of the number).\n",
    "In a real-time environnement like Instagram, we should consider to get an 10-20 posts and ask for the older ones if the user scrolls.\n",
    "\n",
    "It would enable the server to handle quick response and users not to overwait/load their content."
   ]
  },
  {
   "cell_type": "code",
   "execution_count": null,
   "metadata": {},
   "outputs": [],
   "source": []
  }
 ],
 "metadata": {
  "kernelspec": {
   "display_name": "R",
   "language": "R",
   "name": "ir"
  },
  "language_info": {
   "codemirror_mode": "r",
   "file_extension": ".r",
   "mimetype": "text/x-r-source",
   "name": "R",
   "pygments_lexer": "r",
   "version": "3.6.1"
  }
 },
 "nbformat": 4,
 "nbformat_minor": 2
}
